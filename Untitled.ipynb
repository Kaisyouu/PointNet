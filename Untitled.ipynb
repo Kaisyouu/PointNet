{
 "cells": [
  {
   "cell_type": "code",
   "execution_count": 1,
   "metadata": {},
   "outputs": [],
   "source": [
    "import open3d as o3d\n",
    "import numpy as np"
   ]
  },
  {
   "cell_type": "code",
   "execution_count": null,
   "metadata": {},
   "outputs": [],
   "source": [
    "# examples/Python/Basic/pointcloud.py\n",
    "\n",
    "import numpy as np\n",
    "import open3d as o3d\n",
    "\n",
    "if __name__ == \"__main__\":\n",
    "\n",
    "    print(\"Load a ply point cloud, print it, and render it\")\n",
    "    pcd = o3d.io.read_point_cloud(\"./Open3D-master/examples/test_data/fragment.ply\")\n",
    "    print(pcd)\n",
    "    print(np.asarray(pcd.points))\n",
    "    o3d.visualization.draw_geometries([pcd])\n",
    "\n",
    "    print(\"Downsample the point cloud with a voxel of 0.05\")\n",
    "    downpcd = pcd.voxel_down_sample(voxel_size=0.05)\n",
    "    o3d.visualization.draw_geometries([downpcd])\n",
    "\n",
    "    print(\"Recompute the normal of the downsampled point cloud\")\n",
    "    downpcd.estimate_normals(search_param=o3d.geometry.KDTreeSearchParamHybrid(\n",
    "        radius=0.1, max_nn=30))\n",
    "    o3d.visualization.draw_geometries([downpcd])\n",
    "\n",
    "    print(\"Print a normal vector of the 0th point\")\n",
    "    print(downpcd.normals[0])\n",
    "    print(\"Print the normal vectors of the first 10 points\")\n",
    "    print(np.asarray(downpcd.normals)[:10, :])\n",
    "    print(\"\")\n",
    "\n",
    "    print(\"Load a polygon volume and use it to crop the original point cloud\")\n",
    "    vol = o3d.visualization.read_selection_polygon_volume(\n",
    "        \"./Open3D-master/examples/test_data/Crop/cropped.json\")\n",
    "    chair = vol.crop_point_cloud(pcd)\n",
    "    o3d.visualization.draw_geometries([chair])\n",
    "    print(\"\")\n",
    "\n",
    "    print(\"Paint chair\")\n",
    "    chair.paint_uniform_color([1, 0.706, 0])\n",
    "    o3d.visualization.draw_geometries([chair])\n",
    "    print(\"\")"
   ]
  },
  {
   "cell_type": "code",
   "execution_count": null,
   "metadata": {},
   "outputs": [],
   "source": []
  }
 ],
 "metadata": {
  "kernelspec": {
   "display_name": "Python [conda env:py36]",
   "language": "python",
   "name": "conda-env-py36-py"
  },
  "language_info": {
   "codemirror_mode": {
    "name": "ipython",
    "version": 3
   },
   "file_extension": ".py",
   "mimetype": "text/x-python",
   "name": "python",
   "nbconvert_exporter": "python",
   "pygments_lexer": "ipython3",
   "version": "3.6.12"
  }
 },
 "nbformat": 4,
 "nbformat_minor": 4
}
